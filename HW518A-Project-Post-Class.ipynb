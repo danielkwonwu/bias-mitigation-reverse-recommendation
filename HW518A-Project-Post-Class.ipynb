{
 "cells": [
  {
   "cell_type": "code",
   "execution_count": 1,
   "metadata": {},
   "outputs": [],
   "source": [
    "import pandas as pd\n",
    "import numpy as np\n",
    "import random\n",
    "import matplotlib.pyplot as plt\n",
    "from scipy.stats import truncnorm"
   ]
  },
  {
   "cell_type": "code",
   "execution_count": 2,
   "metadata": {},
   "outputs": [
    {
     "data": {
      "image/png": "[encoded data removed]",
      "text/plain": [
       "<Figure size 432x288 with 1 Axes>"
      ]
     },
     "metadata": {
      "needs_background": "light"
     },
     "output_type": "display_data"
    }
   ],
   "source": [
    "# https://stackoverflow.com/questions/36894191/how-to-get-a-normal-distribution-within-a-range-in-numpy\n",
    "def get_truncated_normal(mean=0, sd=0.3, low=-1, upp=1):\n",
    "    return truncnorm(\n",
    "        (low - mean)/sd, \n",
    "        (upp - mean)/sd, \n",
    "        loc = mean, \n",
    "        scale = sd)\n",
    "\n",
    "X = get_truncated_normal()\n",
    "plt.hist(X.rvs(500), bins = 50)\n",
    "plt.show()"
   ]
  },
  {
   "cell_type": "code",
   "execution_count": 3,
   "metadata": {},
   "outputs": [],
   "source": [
    "class post:\n",
    "    \n",
    "    def __init__(self, kind, user_ideology, user_trust):\n",
    "        self.type = kind   # binary: either post (1) or comment (0)\n",
    "        \n",
    "        # post's ideology score\n",
    "        self.ideology = get_truncated_normal(mean=user_ideology, sd=0.2, low=-1, upp=1).rvs()  \n",
    "        \n",
    "        # post's trustworthiness\n",
    "        self.trust = get_truncated_normal(mean=user_trust, sd=0.1, low=0, upp=1).rvs()"
   ]
  },
  {
   "cell_type": "code",
   "execution_count": 6,
   "metadata": {},
   "outputs": [],
   "source": [
    "class user:\n",
    "    def __init__(self):\n",
    "        self.ideology = get_truncated_normal(mean=0, sd=0.3, low=-1, upp=1).rvs()\n",
    "        # care value is dependent on the absolute value of ideology value of the user + noise,\n",
    "        # on the assumption based on research that reveals people with more radial political leanings tend to be more engaging\n",
    "        self.care = get_truncated_normal(mean=abs(self.ideology), sd = 0.15, low = 0, upp=1).rvs()\n",
    "        self.trust = get_truncated_normal(mean=0.5, sd=0.15, low=0, upp=1).rvs()   # post's trustworthiness\n",
    "        \n",
    "def create_n_users (n):\n",
    "    user_list = []\n",
    "    for i in range(n):\n",
    "        user_list.append(user())\n",
    "    return user_list\n",
    "\n",
    "        \n",
    "        "
   ]
  },
  {
   "cell_type": "code",
   "execution_count": 5,
   "metadata": {},
   "outputs": [
    {
     "name": "stdout",
     "output_type": "stream",
     "text": [
      "1 0.2155867410685708 0.3706556001898639\n",
      "0.7512532729899053 -0.41222896917684787\n",
      "-0.6136844400881146 -0.12612704540143835\n",
      "0.08687690487608872 0.27543921682745737\n",
      "0.23774328672851266 0.1253366701783167\n",
      "0.1257590123820351 0.3864213987973552\n",
      "-0.345615958676341 0.129768906574814\n",
      "-0.2677080016003343 -0.12673428359564115\n",
      "0.15961421806401146 -0.1594461529805564\n",
      "0.05434187686368891 -0.13358738514444352\n",
      "0.2878922983589702 0.12010537299719797\n",
      "0.2570771963791372 -0.34127284558306903\n",
      "-0.5061811584464798 -0.2560379658392075\n",
      "0.7580026460519401 -0.7290376131293815\n",
      "-0.17777280887311228 -0.3850290486354762\n",
      "0.17861131670163968 -0.2271436956001429\n",
      "0.090940624460974 -0.12556067071726904\n",
      "-0.08097361787643735 -0.0829534413530789\n",
      "-0.3659382045412278 -0.2510773886210096\n",
      "-0.34244464835196237 -0.4814609508760273\n",
      "-0.01296870552224838 -0.3061739494512033\n",
      "0.39201986936044386 0.13999352372446797\n",
      "-0.17723964349811522 -0.012108839162039656\n",
      "-0.49055627916124134 0.2913277682093412\n",
      "0.05840267522314886 -0.04687016205187853\n",
      "0.0032432249533215726 -0.2509553406949889\n",
      "-0.024555934120682216 0.3252145400698702\n",
      "0.2500448326277961 0.10164855278329299\n",
      "-0.07068449299225606 -0.26811018572624046\n",
      "-0.022472186544006355 0.06460489251359314\n",
      "-0.22963077658668496 0.4580896025487464\n",
      "0.12917056469936838 -0.2810613808170793\n",
      "-0.22258425609487034 -0.6219385223071356\n",
      "-0.11113132745523045 -0.23610774287774122\n",
      "-0.17150478968706423 0.05138037060121891\n",
      "-0.1827661843485364 0.15466773098599507\n",
      "-0.24728388510527102 0.3134114486288872\n",
      "-0.09413527137907242 -0.0722547884047781\n",
      "-0.17618756826622875 -0.04592732173221792\n",
      "0.35049882180384445 -0.3581239792366167\n",
      "0.483686154872933 -0.11382729591146835\n",
      "-0.16644100605147605 -0.2059331021171201\n",
      "-0.5688337397875473 0.4659411772845732\n",
      "-0.10186488820204824 0.39084338773765387\n",
      "-0.3384029064252053 0.2043505098521676\n",
      "0.3480696329495009 -0.49909727623598305\n",
      "-0.38982018926152057 0.30098194761158786\n",
      "-0.08322607997491367 -0.5534572521329433\n",
      "0.3569033343880916 0.4039139624927794\n",
      "-0.7323002244782048 0.041504534060140694\n",
      "-0.14500391678276287 0.13982913021237128\n"
     ]
    }
   ],
   "source": [
    "newpost = post(1)\n",
    "print(newpost.type, newpost.ideology, newpost.trust)\n",
    "\n",
    "user_list = create_n_users(50)\n",
    "for user in user_list:\n",
    "    print(user.ideology, user.care)"
   ]
  },
  {
   "cell_type": "code",
   "execution_count": null,
   "metadata": {},
   "outputs": [],
   "source": []
  },
  {
   "cell_type": "code",
   "execution_count": null,
   "metadata": {},
   "outputs": [],
   "source": []
  }
 ],
 "metadata": {
  "interpreter": {
   "hash": "3352614b04f6a771ec3a392566a3763a34cdc96a177f762027aa589f02ec5f67"
  },
  "kernelspec": {
   "display_name": "Python 3",
   "language": "python",
   "name": "python3"
  },
  "language_info": {
   "codemirror_mode": {
    "name": "ipython",
    "version": 3
   },
   "file_extension": ".py",
   "mimetype": "text/x-python",
   "name": "python",
   "nbconvert_exporter": "python",
   "pygments_lexer": "ipython3",
   "version": "3.8.8"
  }
 },
 "nbformat": 4,
 "nbformat_minor": 4
}
