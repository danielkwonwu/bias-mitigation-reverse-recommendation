{
 "cells": [
  {
   "cell_type": "code",
   "execution_count": 1,
   "metadata": {},
   "outputs": [],
   "source": [
    "import pandas as pd\n",
    "import numpy as np\n",
    "import random\n",
    "import matplotlib.pyplot as plt\n",
    "from scipy.stats import truncnorm"
   ]
  },
  {
   "cell_type": "code",
   "execution_count": 2,
   "metadata": {},
   "outputs": [
    {
     "data": {
      "image/png": "[encoded data removed]",
      "text/plain": [
       "<Figure size 432x288 with 1 Axes>"
      ]
     },
     "metadata": {
      "needs_background": "light"
     },
     "output_type": "display_data"
    }
   ],
   "source": [
    "# https://stackoverflow.com/questions/36894191/how-to-get-a-normal-distribution-within-a-range-in-numpy\n",
    "def get_truncated_normal(mean=0, sd=0.3, low=-1, upp=1):\n",
    "    return truncnorm(\n",
    "        (low - mean)/sd, \n",
    "        (upp - mean)/sd, \n",
    "        loc = mean, \n",
    "        scale = sd)\n",
    "\n",
    "X = get_truncated_normal()\n",
    "plt.hist(X.rvs(500), bins = 50)\n",
    "plt.show()"
   ]
  },
  {
   "cell_type": "code",
   "execution_count": 6,
   "metadata": {},
   "outputs": [],
   "source": [
    "class post:\n",
    "    \n",
    "    def __init__(self, kind, user_ideology, user_trust):\n",
    "        self.type = kind   # binary: either post (1) or comment (0)\n",
    "        \n",
    "        # post's ideology score\n",
    "        self.ideology = get_truncated_normal(mean=user_ideology, sd=0.2, low=-1, upp=1).rvs()  \n",
    "        \n",
    "        # post's trustworthiness\n",
    "        self.trust = get_truncated_normal(mean=user_trust, sd=0.1, low=0, upp=1).rvs()  "
   ]
  },
  {
   "cell_type": "code",
   "execution_count": 4,
   "metadata": {},
   "outputs": [],
   "source": [
    "class user:\n",
    "    def __init__(self):\n",
    "        self.ideology = get_truncated_normal(mean=0, sd=0.3, low=-1, upp=1).rvs()\n",
    "        self.care = get_truncated_normal(mean=0, sd=0.3, low=-1, upp=1).rvs()\n",
    "\n",
    "def create_n_users (n):\n",
    "    user_list = []\n",
    "    for i in range(n):\n",
    "        user_list.append(user())\n",
    "    return user_list"
   ]
  },
  {
   "cell_type": "code",
   "execution_count": 5,
   "metadata": {},
   "outputs": [
    {
     "name": "stdout",
     "output_type": "stream",
     "text": [
      "1 -0.10185294045071687 0.6137461566130943\n",
      "-0.21875475997301744 0.1295866617290578\n",
      "0.016335749446385234 0.17173716489621813\n",
      "0.17900098127731087 0.025177959847468574\n",
      "-0.42439963813236703 0.42346847039490826\n",
      "0.3954736844490238 -0.05655463304785722\n",
      "-0.315104567865213 -0.1284600173278034\n",
      "-0.008139463141949545 -0.7251220165560822\n",
      "-0.175810292913995 0.11306998011242392\n",
      "0.11789949902005067 0.020326947047050545\n",
      "0.26458523172735954 -0.11194103304836091\n",
      "0.5623652811501239 -0.28598496095755754\n",
      "-0.03289422271219863 -0.13212231922395212\n",
      "0.10776712554469266 0.5496539447262409\n",
      "0.1364787687408878 0.3686148430042043\n",
      "0.5322283764585588 0.2585334429229896\n",
      "-0.1630695199451961 0.1264726311530444\n",
      "0.6317426929665168 0.3510165804211841\n",
      "0.10549351926429407 0.026129453713281778\n",
      "-0.3354070778259052 0.2847289419447909\n",
      "0.3219460561714892 -0.2195433528046512\n",
      "-0.03825689654334805 -0.2133472247406483\n",
      "-0.10546630872169298 0.12599343751483583\n",
      "0.10849780695734716 0.02369204949045493\n",
      "0.13912263759149174 -0.2772426110174258\n",
      "0.43338403846290635 -0.15036237146838002\n",
      "0.218371350697785 0.13991499270842847\n",
      "0.18496393957900442 0.028686988279170586\n",
      "-0.3560170398295473 -0.02651638119226203\n",
      "-0.46697364632434163 -0.2984895106324892\n",
      "-0.17216868249167702 -0.3276390888590442\n",
      "0.13351029116044336 0.15526445884988807\n",
      "0.6572836629339696 -0.33995185533506705\n",
      "0.08471304246753007 0.02530054692235551\n",
      "0.5332646782034575 -0.3544668331058342\n",
      "-0.4663395522993883 -0.698256677451144\n",
      "0.31877774097856776 -0.04355319991480649\n",
      "-0.09959286280743543 0.011146344001286359\n",
      "0.19936872488385438 -0.18480185445795383\n",
      "0.3237782762438278 -0.4365666812333539\n",
      "-0.438591944578912 0.09320294526111596\n",
      "0.2252152865718849 -0.0497630499065817\n",
      "0.11241684320328624 0.48154627097225516\n",
      "-0.21145613617928244 -0.037654615204888144\n",
      "-0.254089308291447 -0.40333256317936783\n",
      "0.478416677886814 -0.3245494921786357\n",
      "-0.1214940781429609 0.4831931353651483\n",
      "-0.021466640465066546 -0.13260054753236328\n",
      "0.5707131702448978 -0.0773453794041101\n",
      "-0.1984141811761494 0.28436620394979306\n",
      "-0.012211445289476567 -0.28940285353154405\n",
      "0.12621536238126074 0.041820331536197\n",
      "0.04736152011972115 0.0025242734384080916\n",
      "0.004132079960422173 0.32089009237664706\n",
      "-0.03152875351101018 -0.5062205429925192\n",
      "-0.364738325310558 0.7017961731453192\n",
      "0.48996492929887864 -0.5557470915176522\n",
      "0.08726764695809826 -0.059204190410895106\n",
      "-0.10060408082430214 0.34430965554023857\n",
      "0.21350782012173264 -0.46683972124758233\n",
      "-0.360526154685649 0.4094321122027112\n",
      "-0.2136157414028577 0.06879310572493244\n",
      "-0.04484968649753367 -0.32435923287045476\n",
      "0.22737955915228075 0.1426667495202512\n",
      "0.06440552247592668 -0.25705963500178314\n",
      "0.06745762621307132 0.008681847856427513\n",
      "-0.10666047523330077 -0.225561582177607\n",
      "0.16018073575421615 -0.09414030494118843\n",
      "0.2948395595853803 -0.15946633114936645\n",
      "-0.5071407590887091 -0.16037971739345908\n",
      "-0.5823333481965723 0.08001825340031628\n",
      "0.02908381998306749 0.0892127354396354\n",
      "-0.43649425923397733 0.1642757493326876\n",
      "-0.31606112903042705 -0.2488238578279009\n",
      "-0.08126773475587651 0.17206637489351556\n",
      "-0.38039801407996726 0.28984022993528463\n",
      "0.0493094508107725 0.3084111786162487\n",
      "-0.0216098795260981 0.13635511966547706\n",
      "-0.3403461840822364 0.004624999932737999\n",
      "0.07764699431651534 -0.09664614097988991\n",
      "0.14570523498316382 -0.09419557646017729\n",
      "0.3230502440264109 0.022183748384990914\n",
      "-0.26273642462879354 0.060788211249955704\n",
      "-0.09538901107049698 -0.19706835771668274\n",
      "0.005926196659805787 0.387673928217116\n",
      "0.012461968318762564 0.2696322586873712\n",
      "0.3558733705694536 0.15439136321766567\n",
      "-0.19516030196293788 0.5306665516196541\n",
      "-0.41164953706110374 0.23708974179698195\n",
      "-0.08453948171220069 -0.014764178932344826\n",
      "0.14990850512177645 0.002161977340173072\n",
      "-0.0266894555092038 -0.19388828813098644\n",
      "-0.20441048981346388 -0.3092482344792377\n",
      "0.06979944376747846 0.29276733404234834\n",
      "0.0326139501988976 -0.004265419305492896\n",
      "-0.37288872227084285 -0.2271738933287319\n",
      "-0.5032896401803938 0.42396849154939015\n",
      "-0.20797260025798003 0.4160488562916302\n",
      "0.31614847472080215 0.25210886522525267\n",
      "0.39912598893846235 0.10508098320297245\n",
      "0.05480935692932772 0.02264644111273556\n"
     ]
    }
   ],
   "source": [
    "newpost = post(1)\n",
    "print(newpost.type, newpost.ideology, newpost.trust)\n",
    "\n",
    "user_list = create_n_users(100)\n",
    "for user in user_list:\n",
    "    print(user.ideology, user.care)"
   ]
  }
 ],
 "metadata": {
  "interpreter": {
   "hash": "3352614b04f6a771ec3a392566a3763a34cdc96a177f762027aa589f02ec5f67"
  },
  "kernelspec": {
   "display_name": "Python 3",
   "language": "python",
   "name": "python3"
  },
  "language_info": {
   "codemirror_mode": {
    "name": "ipython",
    "version": 3
   },
   "file_extension": ".py",
   "mimetype": "text/x-python",
   "name": "python",
   "nbconvert_exporter": "python",
   "pygments_lexer": "ipython3",
   "version": "3.7.4"
  }
 },
 "nbformat": 4,
 "nbformat_minor": 2
}
