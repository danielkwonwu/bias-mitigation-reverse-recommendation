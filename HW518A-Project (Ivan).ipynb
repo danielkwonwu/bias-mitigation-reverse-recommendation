{
 "cells": [
  {
   "cell_type": "code",
   "execution_count": 15,
   "metadata": {},
   "outputs": [],
   "source": [
    "import pandas as pd\n",
    "import numpy as np\n",
    "import random\n",
    "import matplotlib.pyplot as plt\n",
    "from scipy.stats import truncnorm"
   ]
  },
  {
   "cell_type": "code",
   "execution_count": 4,
   "metadata": {},
   "outputs": [
    {
     "data": {
      "image/png": "[encoded data removed]",
      "text/plain": [
       "<Figure size 432x288 with 1 Axes>"
      ]
     },
     "metadata": {
      "needs_background": "light"
     },
     "output_type": "display_data"
    }
   ],
   "source": [
    "# https://stackoverflow.com/questions/36894191/how-to-get-a-normal-distribution-within-a-range-in-numpy\n",
    "def get_truncated_normal(mean=0, sd=0.3, low=-1, upp=1):\n",
    "    return truncnorm(\n",
    "        (low - mean)/sd, \n",
    "        (upp - mean)/sd, \n",
    "        loc = mean, \n",
    "        scale = sd)\n",
    "\n",
    "X = get_truncated_normal()\n",
    "plt.hist(X.rvs(500), bins = 50)\n",
    "plt.show()"
   ]
  },
  {
   "cell_type": "code",
   "execution_count": 5,
   "metadata": {},
   "outputs": [],
   "source": [
    "class post:\n",
    "    \n",
    "    def __init__(self, user_id, kind, user_ideology, user_trust):\n",
    "        self.type = kind   # binary: either post (1) or comment (0)\n",
    "        self.author = user_id\n",
    "        \n",
    "        # post's ideology score\n",
    "        self.ideology = get_truncated_normal(mean=user_ideology, sd=0.2, low=-1, upp=1).rvs()  \n",
    "        \n",
    "        # post's trustworthiness\n",
    "        self.trust = get_truncated_normal(mean=user_trust, sd=0.1, low=0, upp=1).rvs()  "
   ]
  },
  {
   "cell_type": "code",
   "execution_count": 19,
   "metadata": {},
   "outputs": [],
   "source": [
    "class user:\n",
    "    def __init__(self):\n",
    "        self.ideology = get_truncated_normal(mean=0, sd=0.3, low=-1, upp=1).rvs()\n",
    "        # care value is dependent on the absolute value of ideology value of the user + noise,\n",
    "        # on the assumption based on research that reveals people with more radial political leanings tend to be more engaging\n",
    "        self.care = get_truncated_normal(mean=abs(self.ideology), sd = 0.15, low = 0, upp=1).rvs()\n",
    "        self.trust = get_truncated_normal(mean=0.5, sd=0.15, low=0, upp=1).rvs()   # post's trustworthiness\n",
    "        \n",
    "        # in a number of iterations, if the user reads more than this percentage of posts which ideology distance \n",
    "        #   between the user and the post is more than 1.2, the user will quit using the platform\n",
    "        self.tolerance = 1 - self.care\n",
    "        # the number of \"bad\" post that the user hate (ideology distance > 1.2) \n",
    "        #   that will make the user leave the platform \n",
    "        self.bad_posts = 0\n",
    "        self.max_bad_posts = 10\n",
    "        \n",
    "        # how many posts the user has read\n",
    "        self.num_posts_read = 0\n",
    "        \n",
    "        # how easy a user will be influenced/persuaded by a post, which is determined by the ideology, where\n",
    "        #   a right-wing user will be more difficult to influence than a left-wing user\n",
    "        #if(self.ideology < 0.5):\n",
    "        self.easiness = get_truncated_normal(mean=0.5, sd = 0.15, low = 0, upp=1).rvs()\n",
    "        #else:\n",
    "        #    self.easiness = get_truncated_normal(mean=0.25, sd = 0.15, low = 0, upp=1).rvs()\n",
    "        \n",
    "def create_n_users (n):\n",
    "    user_list = []\n",
    "    for i in range(n):\n",
    "        user_list.append(user())\n",
    "    return user_list"
   ]
  },
  {
   "cell_type": "code",
   "execution_count": 7,
   "metadata": {
    "scrolled": true
   },
   "outputs": [],
   "source": [
    "def create_posts(users):\n",
    "    post_list = []\n",
    "    for j in range(len(users)):\n",
    "        user = users[j]\n",
    "        num_posts = int(round((abs(user.ideology)*10)+(user.care*10), 0))\n",
    "        for i in range(num_posts):\n",
    "            post_list.append(post(j, 1, user.ideology, user.trust))\n",
    "        #print(num_posts, user.care, user.ideology)\n",
    "    return post_list\n",
    "\n",
    "#user_list = create_n_users(100)\n",
    "#post_list = create_posts(user_list)\n",
    "\n",
    "#user_idx = 0\n",
    "#for i in range(len(user_list)):\n",
    "  #print(\"===== User\", i, \"=====\")\n",
    "  #num_posts = int(round((abs(user_list[i].ideology)*10)+(user_list[i].care*10), 0))\n",
    "  #print(\"user's ideology score: \", user_list[i].ideology, \", user's care score: \", user_list[i].care, \"# posts:\", num_posts)\n",
    "\n",
    "  #for j in range(num_posts):\n",
    "  #  post_list.append(post(i, 1, user_list[i].ideology, user_list[i].trust))\n",
    "  #  print(\"post\", j, \": author =\", post_list[-1].author, \n",
    "  #        \", post's ideology score =\", post_list[-1].ideology, \n",
    "  #        \", post's trust score =\", post_list[-1].trust)\n",
    "  \n",
    "  #print()"
   ]
  },
  {
   "cell_type": "code",
   "execution_count": 8,
   "metadata": {},
   "outputs": [
    {
     "data": {
      "text/plain": [
       "<matplotlib.legend.Legend at 0x21799dbea88>"
      ]
     },
     "execution_count": 8,
     "metadata": {},
     "output_type": "execute_result"
    },
    {
     "data": {
      "image/png": "[encoded data removed]",
      "text/plain": [
       "<Figure size 480x320 with 1 Axes>"
      ]
     },
     "metadata": {
      "needs_background": "light"
     },
     "output_type": "display_data"
    }
   ],
   "source": [
    "import math\n",
    "\n",
    "# cutoff_point: when the ideology distance is greater than 1+notwork_point,\n",
    "#   the user's ideology will be pulled further away from the post's ideology\n",
    "# I use the formula below to make the influence effect between -1 and 1.\n",
    "#   ref: https://stats.stackexchange.com/questions/178626/how-to-normalize-data-between-1-and-1\n",
    "def logit(x, cutoff_pt=1.2, offset_power=2):\n",
    "    if(x == 0):\n",
    "        x = x+10**(-offset_power)\n",
    "    elif(x == 2):\n",
    "        x = x-10**(-offset_power)\n",
    "        \n",
    "    if(x <= cutoff_pt):\n",
    "        x = (x/cutoff_pt)/2\n",
    "    else:\n",
    "        x = (((x-cutoff_pt)/(2-cutoff_pt))+1)/2\n",
    "    \n",
    "    return -math.log(x/(1-x))\n",
    "\n",
    "# I use the formula below to make the influence effect between -1 and 1.\n",
    "#   ref: https://stats.stackexchange.com/questions/178626/how-to-normalize-data-between-1-and-1\n",
    "def normalize(value):\n",
    "    max_value = logit(0)\n",
    "    #min_value = logit(2)\n",
    "    min_value = -max_value\n",
    "    \n",
    "    return_value = 2*((logit(value) - min_value)/(max_value - min_value)) -1\n",
    "    if(return_value > 1):\n",
    "        return 1\n",
    "    elif(return_value < -1):\n",
    "        return -1\n",
    "    else:\n",
    "        return return_value\n",
    "\n",
    "# calculate how each post the user has read will affect the user's ideology\n",
    "# - the affect power is inverse proportional to the distance between the user's and the post's ideology\n",
    "# - use user's easiness parameter (between 0 and 1) to tune the influence effect  \n",
    "# return value: new user ideology score\n",
    "#def influence(user, post, tune_power=1.1, tune_denominator=0.1):\n",
    "def influence(user, post):\n",
    "    ideology_distance = abs(user.ideology - post.ideology)\n",
    "    #print(ideology_distance, user.ideology, post.ideology)\n",
    "    influence_ratio = user.easiness * normalize(ideology_distance)\n",
    "    new_user_ideology = user.ideology - influence_ratio*(user.ideology - post.ideology)\n",
    "    if(new_user_ideology > 1):\n",
    "        return 1\n",
    "    if(new_user_ideology < -1):\n",
    "        return -1\n",
    "    \n",
    "    return new_user_ideology \n",
    "\n",
    "# for testing purpose\n",
    "x = []\n",
    "for i in range(101):\n",
    "    x.append(i*2/100)\n",
    "    \n",
    "y = []\n",
    "for i in range(101):\n",
    "    y.append(normalize(x[i]))\n",
    "\n",
    "plt.figure(figsize=(6, 4), dpi=80)\n",
    "plt.xlabel(\"Ideological distance between user and post\", fontsize=12)\n",
    "plt.ylabel(\"Influence power\", fontsize=12)\n",
    "plt.plot(x, y, linewidth=2.0, label=\"influence curve\")\n",
    "plt.axvline(x=1.2, color=\"red\", linewidth=1.0, label=\"x=1.2\")\n",
    "plt.legend()\n",
    "\n",
    "#print(user_list[0].ideology, \n",
    "#      post_list[0].ideology, \n",
    "#      abs(user_list[0].ideology - post_list[0].ideology),\n",
    "#      user_list[0].easiness)\n",
    "#print(influence(user_list[0], post_list[0]))\n",
    "#print(normalize(0.5))"
   ]
  },
  {
   "cell_type": "code",
   "execution_count": 9,
   "metadata": {},
   "outputs": [],
   "source": [
    "def recommend_n_by_user_post (posts, users, n):\n",
    "    #aggregate each post.ideology by users\n",
    "    user_all_posts = {}\n",
    "    for post in posts:\n",
    "        if post.author not in user_all_posts.keys():\n",
    "            user_all_posts[post.author] = []\n",
    "        user_all_posts[post.author].append(post.ideology)\n",
    "    \n",
    "    #populate the user - ideology mean dictionary\n",
    "    user_ideology_from_posts = {}\n",
    "    index = 0\n",
    "    for user in users:\n",
    "        if index in user_all_posts.keys():\n",
    "            user_ideology_from_posts[user] = sum(user_all_posts[index])/len(user_all_posts[index])\n",
    "        else:\n",
    "            user_ideology_from_posts[user] = 0\n",
    "        index += 1\n",
    "   \n",
    "    \n",
    "    recommended_posts = {}\n",
    "    index = 0\n",
    "    for user in users:\n",
    "        diff = {}\n",
    "        for post in posts:\n",
    "            if not post.author == index:\n",
    "                diff[post] = abs(user_ideology_from_posts[user] - post.ideology)\n",
    "        new_diff = dict(sorted(diff.items(), key = lambda item: item[1]))\n",
    "        result = list(new_diff.keys())\n",
    "        new_result = []\n",
    "        for i in range(n):\n",
    "            new_result.append(result[i])\n",
    "        recommended_posts[user] = new_result\n",
    "        index += 1\n",
    "    return recommended_posts"
   ]
  },
  {
   "cell_type": "code",
   "execution_count": 17,
   "metadata": {},
   "outputs": [],
   "source": [
    "def recommend_n_random (posts, users, n):\n",
    "    user_post = {}\n",
    "    index = 0\n",
    "\n",
    "    for user in users:\n",
    "        if user not in user_post.keys():\n",
    "            user_post[user] = []\n",
    "            while len(user_post[user]) < n:\n",
    "                r = random.choice(posts)\n",
    "                if (not r.author == index) and (r not in user_post[user]):\n",
    "                    user_post[user].append(r)\n",
    "        index += 1\n",
    "    return user_post"
   ]
  },
  {
   "cell_type": "code",
   "execution_count": 11,
   "metadata": {},
   "outputs": [],
   "source": [
    "def recommend_n_opposite (posts, users, n):\n",
    "    #aggregate each post.ideology by users\n",
    "    user_all_posts = {}\n",
    "    for post in posts:\n",
    "        if post.author not in user_all_posts.keys():\n",
    "            user_all_posts[post.author] = []\n",
    "        user_all_posts[post.author].append(post.ideology)\n",
    "    \n",
    "    #populate the user - ideology mean dictionary\n",
    "    user_ideology_from_posts = {}\n",
    "    index = 0\n",
    "    for user in users:\n",
    "        if index in user_all_posts.keys():\n",
    "            user_ideology_from_posts[user] = sum(user_all_posts[index])/len(user_all_posts[index])\n",
    "        else:\n",
    "            user_ideology_from_posts[user] = 0\n",
    "        index += 1\n",
    "   \n",
    "    recommended_posts = {}\n",
    "    index = 0\n",
    "    for user in users:\n",
    "        diff = {}\n",
    "        for post in posts:\n",
    "            if not post.author == index:\n",
    "                diff[post] = abs(user_ideology_from_posts[user] - post.ideology)\n",
    "        new_diff = dict(sorted(diff.items(), key = lambda item: item[1]))\n",
    "        new_diff_1 = list(new_diff.keys())\n",
    "        result = list(filter(lambda x : x.ideology * user_ideology_from_posts[user] <= 0, new_diff_1))\n",
    "        new_result = []\n",
    "        for i in range(n):\n",
    "            new_result.append(result[len(result) - 1 - i])\n",
    "        recommended_posts[user] = new_result\n",
    "        index += 1\n",
    "    return recommended_posts"
   ]
  },
  {
   "cell_type": "code",
   "execution_count": 12,
   "metadata": {},
   "outputs": [],
   "source": [
    "def recommend_n_accordingly (posts, users, n):\n",
    "    #aggregate each post.ideology by users\n",
    "    user_all_posts = {}\n",
    "    for post in posts:\n",
    "        if post.author not in user_all_posts.keys():\n",
    "            user_all_posts[post.author] = []\n",
    "        user_all_posts[post.author].append(post.ideology)\n",
    "    \n",
    "    #populate the user - ideology mean dictionary\n",
    "    user_ideology_from_posts = {}\n",
    "    index = 0\n",
    "    for user in users:\n",
    "        if index in user_all_posts.keys():\n",
    "            user_ideology_from_posts[user] = sum(user_all_posts[index])/len(user_all_posts[index])\n",
    "        else:\n",
    "            user_ideology_from_posts[user] = 0\n",
    "        index += 1\n",
    "   \n",
    "    recommended_posts = {}\n",
    "    index = 0\n",
    "    for user in users:\n",
    "        diff = {}\n",
    "        for post in posts:\n",
    "            if not post.author == index:\n",
    "                diff[post] = abs(user_ideology_from_posts[user] - post.ideology)\n",
    "        user_val = abs(user_ideology_from_posts[user])\n",
    "        if user_val < 1/3:\n",
    "            new_diff = dict(sorted(diff.items(), key = lambda item: item[1]))\n",
    "            result = list(new_diff.keys())\n",
    "            new_result = []\n",
    "            for i in range(n):\n",
    "                new_result.append(result[i])\n",
    "            recommended_posts[user] = new_result\n",
    "        elif user_val < 2/3:\n",
    "            new_diff = dict(sorted(diff.items(), key = lambda item: item[1]))\n",
    "            result = list(new_diff.keys())\n",
    "            new_result = []\n",
    "            for i in range(int(n/2)):\n",
    "                new_result.append(result[i])\n",
    "            new_diff_1 = list(new_diff.keys())\n",
    "            result = list(filter(lambda x : x.ideology * user_ideology_from_posts[user] <= 0, new_diff_1))\n",
    "            for i in range(n - int(n/2)):\n",
    "                new_result.append(result[i])\n",
    "            recommended_posts[user] = new_result\n",
    "        else:\n",
    "            new_diff = dict(sorted(diff.items(), key = lambda item: item[1]))\n",
    "            new_diff_1 = list(new_diff.keys())\n",
    "            result = list(filter(lambda x : x.ideology * user_ideology_from_posts[user] <= 0, new_diff_1))\n",
    "            new_result = []\n",
    "            for i in range(n):\n",
    "                new_result.append(result[i])\n",
    "            recommended_posts[user] = new_result\n",
    "        index += 1\n",
    "    return recommended_posts"
   ]
  },
  {
   "cell_type": "code",
   "execution_count": 29,
   "metadata": {
    "scrolled": true
   },
   "outputs": [
    {
     "name": "stdout",
     "output_type": "stream",
     "text": [
      "*********** Simulating 1000 users ***********\n"
     ]
    },
    {
     "data": {
      "image/png": "[encoded data removed]",
      "text/plain": [
       "<Figure size 432x288 with 1 Axes>"
      ]
     },
     "metadata": {
      "needs_background": "light"
     },
     "output_type": "display_data"
    },
    {
     "name": "stdout",
     "output_type": "stream",
     "text": [
      "Original ideology mean & standard deviation: 0.007475, 0.297320\n",
      "\n",
      "=== 1: recommend_n_by_user_post ===\n",
      "After iteration #20:\n"
     ]
    },
    {
     "data": {
      "image/png": "[encoded data removed]",
      "text/plain": [
       "<Figure size 432x288 with 1 Axes>"
      ]
     },
     "metadata": {
      "needs_background": "light"
     },
     "output_type": "display_data"
    },
    {
     "name": "stdout",
     "output_type": "stream",
     "text": [
      "Current ideology mean & standard deviation: 0.011599, 0.390806\n",
      "\n",
      "After iteration #50:\n"
     ]
    },
    {
     "data": {
      "image/png": "[encoded data removed]",
      "text/plain": [
       "<Figure size 432x288 with 1 Axes>"
      ]
     },
     "metadata": {
      "needs_background": "light"
     },
     "output_type": "display_data"
    },
    {
     "name": "stdout",
     "output_type": "stream",
     "text": [
      "Current ideology mean & standard deviation: 0.021054, 0.417044\n",
      "\n",
      "After iteration #100:\n"
     ]
    },
    {
     "data": {
      "image/png": "[encoded data removed]",
      "text/plain": [
       "<Figure size 432x288 with 1 Axes>"
      ]
     },
     "metadata": {
      "needs_background": "light"
     },
     "output_type": "display_data"
    },
    {
     "name": "stdout",
     "output_type": "stream",
     "text": [
      "Current ideology mean & standard deviation: 0.016678, 0.421781\n",
      "\n",
      "0 users have left\n",
      "\n",
      "=== 2: recommend_n_random ===\n",
      "After iteration #20:\n"
     ]
    },
    {
     "data": {
      "image/png": "[encoded data removed]",
      "text/plain": [
       "<Figure size 432x288 with 1 Axes>"
      ]
     },
     "metadata": {
      "needs_background": "light"
     },
     "output_type": "display_data"
    },
    {
     "name": "stdout",
     "output_type": "stream",
     "text": [
      "Current ideology mean & standard deviation: 0.171985, 0.070062\n",
      "\n",
      "After iteration #50:\n"
     ]
    },
    {
     "data": {
      "image/png": "[encoded data removed]",
      "text/plain": [
       "<Figure size 432x288 with 1 Axes>"
      ]
     },
     "metadata": {
      "needs_background": "light"
     },
     "output_type": "display_data"
    },
    {
     "name": "stdout",
     "output_type": "stream",
     "text": [
      "Current ideology mean & standard deviation: 0.311899, 0.069033\n",
      "\n",
      "After iteration #100:\n"
     ]
    },
    {
     "data": {
      "image/png": "[encoded data removed]",
      "text/plain": [
       "<Figure size 432x288 with 1 Axes>"
      ]
     },
     "metadata": {
      "needs_background": "light"
     },
     "output_type": "display_data"
    },
    {
     "name": "stdout",
     "output_type": "stream",
     "text": [
      "Current ideology mean & standard deviation: 0.476086, 0.068453\n",
      "\n",
      "0 users have left\n",
      "\n",
      "=== 3: recommend_n_opposite ===\n",
      "After iteration #20:\n"
     ]
    },
    {
     "data": {
      "image/png": "[encoded data removed]",
      "text/plain": [
       "<Figure size 432x288 with 1 Axes>"
      ]
     },
     "metadata": {
      "needs_background": "light"
     },
     "output_type": "display_data"
    },
    {
     "name": "stdout",
     "output_type": "stream",
     "text": [
      "Current ideology mean & standard deviation: 0.079622, 0.978942\n",
      "\n",
      "After iteration #50:\n"
     ]
    },
    {
     "data": {
      "image/png": "[encoded data removed]",
      "text/plain": [
       "<Figure size 432x288 with 1 Axes>"
      ]
     },
     "metadata": {
      "needs_background": "light"
     },
     "output_type": "display_data"
    },
    {
     "name": "stdout",
     "output_type": "stream",
     "text": [
      "Current ideology mean & standard deviation: 0.081243, 0.991672\n",
      "\n",
      "After iteration #100:\n"
     ]
    },
    {
     "data": {
      "image/png": "[encoded data removed]",
      "text/plain": [
       "<Figure size 432x288 with 1 Axes>"
      ]
     },
     "metadata": {
      "needs_background": "light"
     },
     "output_type": "display_data"
    },
    {
     "name": "stdout",
     "output_type": "stream",
     "text": [
      "Current ideology mean & standard deviation: 0.084650, 0.995406\n",
      "\n",
      "505 users have left\n",
      "\n",
      "=== 4: recommend_n_accordingly ===\n",
      "After iteration #20:\n"
     ]
    },
    {
     "data": {
      "image/png": "[encoded data removed]",
      "text/plain": [
       "<Figure size 432x288 with 1 Axes>"
      ]
     },
     "metadata": {
      "needs_background": "light"
     },
     "output_type": "display_data"
    },
    {
     "name": "stdout",
     "output_type": "stream",
     "text": [
      "Current ideology mean & standard deviation: 0.012108, 0.163936\n",
      "\n",
      "After iteration #50:\n"
     ]
    },
    {
     "data": {
      "image/png": "[encoded data removed]",
      "text/plain": [
       "<Figure size 432x288 with 1 Axes>"
      ]
     },
     "metadata": {
      "needs_background": "light"
     },
     "output_type": "display_data"
    },
    {
     "name": "stdout",
     "output_type": "stream",
     "text": [
      "Current ideology mean & standard deviation: 0.003092, 0.158034\n",
      "\n",
      "After iteration #100:\n"
     ]
    },
    {
     "data": {
      "image/png": "[encoded data removed]",
      "text/plain": [
       "<Figure size 432x288 with 1 Axes>"
      ]
     },
     "metadata": {
      "needs_background": "light"
     },
     "output_type": "display_data"
    },
    {
     "name": "stdout",
     "output_type": "stream",
     "text": [
      "Current ideology mean & standard deviation: 0.002870, 0.156259\n",
      "\n",
      "0 users have left\n",
      "\n"
     ]
    }
   ],
   "source": [
    "from copy import deepcopy\n",
    "\n",
    "#### def run_simulation(num_iterations):\n",
    "num_iterations = 100\n",
    "n_users_list = [100, 300, 1000]\n",
    "\n",
    "bin_num = 30\n",
    "bin_range = (-1, 1)\n",
    "\n",
    "# Generate users for the simulation\n",
    "\n",
    "for n_user in n_users_list:\n",
    "    \n",
    "    if(n_user != 1000):\n",
    "        continue\n",
    "    \n",
    "    print(\"*********** Simulating %d users ***********\" % n_user)\n",
    "    users_list = create_n_users(n_user)\n",
    "    users_list_bak = deepcopy(users_list)\n",
    "\n",
    "    original_user_ideology_list = []\n",
    "    for cur_user in users_list:\n",
    "        original_user_ideology_list.append(cur_user.ideology)\n",
    "\n",
    "    plt.hist(original_user_ideology_list, bin_num, range=bin_range, alpha=0.5, label='original ideology')\n",
    "    plt.legend(loc='upper right')\n",
    "    plt.xlim(-1, 1)\n",
    "    plt.show()                \n",
    "    print(\"Original ideology mean & standard deviation: %f, %f\" %\n",
    "          (np.mean(original_user_ideology_list), np.std(original_user_ideology_list)))    \n",
    "    print()\n",
    "\n",
    "    #recommended_posts = {}\n",
    "\n",
    "\n",
    "    n_recommend_posts = 5\n",
    "\n",
    "    # 4 types of recommendation strategies\n",
    "    for t in range(4):\n",
    "        if (t == 0):\n",
    "            print(\"=== 1: recommend_n_by_user_post ===\")\n",
    "        elif (t == 1):\n",
    "            print(\"=== 2: recommend_n_random ===\")\n",
    "        elif (t == 2):\n",
    "            print(\"=== 3: recommend_n_opposite ===\")\n",
    "        elif (t == 3):\n",
    "            print(\"=== 4: recommend_n_accordingly ===\")\n",
    "\n",
    "        users_list = deepcopy(users_list_bak)\n",
    "\n",
    "        num_users_left = 0\n",
    "        for i in range(num_iterations):\n",
    "            # Generate posts for this iteration based on list of users  \n",
    "            posts_list = create_posts(users_list)\n",
    "            # Recommend posts to each user\n",
    "            if (t == 0):\n",
    "                recommended_posts = recommend_n_by_user_post(posts_list, users_list, n_recommend_posts)\n",
    "            elif (t == 1):\n",
    "                recommended_posts = recommend_n_random(posts_list, users_list, n_recommend_posts)\n",
    "            elif (t == 2):\n",
    "                recommended_posts = recommend_n_opposite(posts_list, users_list, n_recommend_posts)\n",
    "            elif (t == 3):\n",
    "                recommended_posts = recommend_n_accordingly(posts_list, users_list, n_recommend_posts)\n",
    "\n",
    "            new_user_ideology_list = []\n",
    "            j = 0\n",
    "            original_j = 0\n",
    "            while j < len(users_list):\n",
    "                #print(\"j = %d\" % j)\n",
    "            #for j in range(len(users_list)):\n",
    "                #for recommended_post in recommended_posts[j]:\n",
    "                cur_user = users_list[j]        \n",
    "                for recommended_post in recommended_posts[cur_user]:\n",
    "                    #ideo_distance = abs(users_list[j].ideology - recommended_post.ideology)\n",
    "                    ideo_distance = abs(cur_user.ideology - recommended_post.ideology)\n",
    "                    if(ideo_distance >= 1.2):\n",
    "                        users_list[j].bad_posts += 1\n",
    "                    elif(ideo_distance <= 0.2):\n",
    "                        users_list[j].bad_posts -= 1\n",
    "\n",
    "                    users_list[j].ideology = influence(users_list[j], recommended_post)\n",
    "                    users_list[j].num_posts_read += 1\n",
    "\n",
    "                if ((users_list[j].bad_posts == users_list[j].max_bad_posts) and \n",
    "                    (users_list[j].bad_posts/users_list[j].num_posts_read > users_list[j].tolerance)):\n",
    "                    #print(\"One user has left (user's tolerance score = %f; the user has read %d posts).\" \n",
    "                    #      % (users_list[j].tolerance, users_list[j].num_posts_read))\n",
    "                    users_list.pop(j)\n",
    "                    num_users_left += 1\n",
    "                else:\n",
    "                    new_user_ideology_list.append(users_list[j].ideology)\n",
    "                    j += 1\n",
    "\n",
    "                original_j += 1\n",
    "\n",
    "            if(i == 19) or (i == 49) or (i==99):\n",
    "                print(\"After iteration #%d:\" % (i+1))\n",
    "                #get the bin edges\n",
    "                bins=np.histogram(np.hstack((original_user_ideology_list,new_user_ideology_list)), bins=30)[1] \n",
    "                \n",
    "                plt.hist(original_user_ideology_list, bin_num, range=bin_range, alpha=0.5, label='original ideology')\n",
    "                plt.hist(new_user_ideology_list, bin_num, range=bin_range, alpha=0.5, label='new ideology')    \n",
    "                plt.legend(loc='upper right')\n",
    "                plt.xlim(-1, 1)\n",
    "                plt.show()            \n",
    "                print(\"Current ideology mean & standard deviation: %f, %f\" %\n",
    "                  (np.mean(new_user_ideology_list), np.std(new_user_ideology_list)))    \n",
    "                print()\n",
    "\n",
    "        #return recommended_posts\n",
    "        #recommended_posts = run_simulation(100)\n",
    "\n",
    "        print(\"%d users have left\" % num_users_left)\n",
    "        print(\"\")\n"
   ]
  },
  {
   "cell_type": "code",
   "execution_count": 21,
   "metadata": {},
   "outputs": [
    {
     "name": "stdout",
     "output_type": "stream",
     "text": [
      "*********** Simulating 100 users ***********\n"
     ]
    },
    {
     "data": {
      "image/png": "[encoded data removed]",
      "text/plain": [
       "<Figure size 432x288 with 1 Axes>"
      ]
     },
     "metadata": {
      "needs_background": "light"
     },
     "output_type": "display_data"
    },
    {
     "name": "stdout",
     "output_type": "stream",
     "text": [
      "Original ideology mean & standard deviation: -0.049143, 0.298267\n",
      "\n",
      "=== 2: recommend_n_random ===\n",
      "After iteration #20:\n"
     ]
    },
    {
     "data": {
      "image/png": "[encoded data removed]",
      "text/plain": [
       "<Figure size 432x288 with 1 Axes>"
      ]
     },
     "metadata": {
      "needs_background": "light"
     },
     "output_type": "display_data"
    },
    {
     "name": "stdout",
     "output_type": "stream",
     "text": [
      "Current ideology mean & standard deviation: -0.234611, 0.068617\n",
      "\n",
      "After iteration #50:\n"
     ]
    },
    {
     "data": {
      "image/png": "[encoded data removed]",
      "text/plain": [
       "<Figure size 432x288 with 1 Axes>"
      ]
     },
     "metadata": {
      "needs_background": "light"
     },
     "output_type": "display_data"
    },
    {
     "name": "stdout",
     "output_type": "stream",
     "text": [
      "Current ideology mean & standard deviation: -0.303647, 0.078017\n",
      "\n",
      "After iteration #100:\n"
     ]
    },
    {
     "data": {
      "image/png": "[encoded data removed]",
      "text/plain": [
       "<Figure size 432x288 with 1 Axes>"
      ]
     },
     "metadata": {
      "needs_background": "light"
     },
     "output_type": "display_data"
    },
    {
     "name": "stdout",
     "output_type": "stream",
     "text": [
      "Current ideology mean & standard deviation: -0.399624, 0.062159\n",
      "\n",
      "0 users have left\n",
      "\n"
     ]
    }
   ],
   "source": [
    "from copy import deepcopy\n",
    "\n",
    "#### def run_simulation(num_iterations):\n",
    "num_iterations = 100\n",
    "n_users_list = [100, 300, 1000]\n",
    "\n",
    "bin_num = 30\n",
    "bin_range = (-1, 1)\n",
    "\n",
    "# Generate users for the simulation\n",
    "\n",
    "for n_user in n_users_list:\n",
    "    \n",
    "    if(n_user != 100):\n",
    "        continue\n",
    "    \n",
    "    print(\"*********** Simulating %d users ***********\" % n_user)\n",
    "    users_list = create_n_users(n_user)\n",
    "    users_list_bak = deepcopy(users_list)\n",
    "\n",
    "    original_user_ideology_list = []\n",
    "    for cur_user in users_list:\n",
    "        original_user_ideology_list.append(cur_user.ideology)\n",
    "\n",
    "    plt.hist(original_user_ideology_list, bin_num, range=bin_range, alpha=0.5, label='original ideology')\n",
    "    plt.legend(loc='upper right')\n",
    "    plt.xlim(-1, 1)\n",
    "    plt.show()                \n",
    "    print(\"Original ideology mean & standard deviation: %f, %f\" %\n",
    "          (np.mean(original_user_ideology_list), np.std(original_user_ideology_list)))    \n",
    "    print()\n",
    "\n",
    "    #recommended_posts = {}\n",
    "\n",
    "\n",
    "    n_recommend_posts = 5\n",
    "\n",
    "    # 4 types of recommendation strategies\n",
    "    for t in range(4):\n",
    "        \n",
    "        if(t!=1):\n",
    "            continue\n",
    "        \n",
    "        if (t == 0):\n",
    "            print(\"=== 1: recommend_n_by_user_post ===\")\n",
    "        elif (t == 1):\n",
    "            print(\"=== 2: recommend_n_random ===\")\n",
    "        elif (t == 2):\n",
    "            print(\"=== 3: recommend_n_opposite ===\")\n",
    "        elif (t == 3):\n",
    "            print(\"=== 4: recommend_n_accordingly ===\")\n",
    "\n",
    "        users_list = deepcopy(users_list_bak)\n",
    "\n",
    "        num_users_left = 0\n",
    "        for i in range(num_iterations):\n",
    "            # Generate posts for this iteration based on list of users  \n",
    "            posts_list = create_posts(users_list)\n",
    "            # Recommend posts to each user\n",
    "            if (t == 0):\n",
    "                recommended_posts = recommend_n_by_user_post(posts_list, users_list, n_recommend_posts)\n",
    "            elif (t == 1):\n",
    "                recommended_posts = recommend_n_random(posts_list, users_list, n_recommend_posts)\n",
    "            elif (t == 2):\n",
    "                recommended_posts = recommend_n_opposite(posts_list, users_list, n_recommend_posts)\n",
    "            elif (t == 3):\n",
    "                recommended_posts = recommend_n_accordingly(posts_list, users_list, n_recommend_posts)\n",
    "\n",
    "            new_user_ideology_list = []\n",
    "            j = 0\n",
    "            original_j = 0\n",
    "            while j < len(users_list):\n",
    "                #print(\"j = %d\" % j)\n",
    "            #for j in range(len(users_list)):\n",
    "                #for recommended_post in recommended_posts[j]:\n",
    "                cur_user = users_list[j]        \n",
    "                for recommended_post in recommended_posts[cur_user]:\n",
    "                    #ideo_distance = abs(users_list[j].ideology - recommended_post.ideology)\n",
    "                    ideo_distance = abs(cur_user.ideology - recommended_post.ideology)\n",
    "                    if(ideo_distance >= 1.2):\n",
    "                        users_list[j].bad_posts += 1\n",
    "                    elif(ideo_distance <= 0.2):\n",
    "                        users_list[j].bad_posts -= 1\n",
    "\n",
    "                    users_list[j].ideology = influence(users_list[j], recommended_post)\n",
    "                    users_list[j].num_posts_read += 1\n",
    "\n",
    "                if ((users_list[j].bad_posts == users_list[j].max_bad_posts) and \n",
    "                    (users_list[j].bad_posts/users_list[j].num_posts_read > users_list[j].tolerance)):\n",
    "                    #print(\"One user has left (user's tolerance score = %f; the user has read %d posts).\" \n",
    "                    #      % (users_list[j].tolerance, users_list[j].num_posts_read))\n",
    "                    users_list.pop(j)\n",
    "                    num_users_left += 1\n",
    "                else:\n",
    "                    new_user_ideology_list.append(users_list[j].ideology)\n",
    "                    j += 1\n",
    "\n",
    "                original_j += 1\n",
    "\n",
    "            if(i == 19) or (i == 49) or (i==99):\n",
    "                print(\"After iteration #%d:\" % (i+1))\n",
    "                #get the bin edges\n",
    "                bins=np.histogram(np.hstack((original_user_ideology_list,new_user_ideology_list)), bins=30)[1] \n",
    "                \n",
    "                plt.hist(original_user_ideology_list, bin_num, range=bin_range, alpha=0.5, label='original ideology')\n",
    "                plt.hist(new_user_ideology_list, bin_num, range=bin_range, alpha=0.5, label='new ideology')    \n",
    "                plt.legend(loc='upper right')\n",
    "                plt.xlim(-1, 1)\n",
    "                plt.show()            \n",
    "                print(\"Current ideology mean & standard deviation: %f, %f\" %\n",
    "                  (np.mean(new_user_ideology_list), np.std(new_user_ideology_list)))    \n",
    "                print()\n",
    "\n",
    "        #return recommended_posts\n",
    "        #recommended_posts = run_simulation(100)\n",
    "\n",
    "        print(\"%d users have left\" % num_users_left)\n",
    "        print(\"\")\n"
   ]
  }
 ],
 "metadata": {
  "interpreter": {
   "hash": "3352614b04f6a771ec3a392566a3763a34cdc96a177f762027aa589f02ec5f67"
  },
  "kernelspec": {
   "display_name": "Python 3 (ipykernel)",
   "language": "python",
   "name": "python3"
  },
  "language_info": {
   "codemirror_mode": {
    "name": "ipython",
    "version": 3
   },
   "file_extension": ".py",
   "mimetype": "text/x-python",
   "name": "python",
   "nbconvert_exporter": "python",
   "pygments_lexer": "ipython3",
   "version": "3.7.6"
  }
 },
 "nbformat": 4,
 "nbformat_minor": 2
}
